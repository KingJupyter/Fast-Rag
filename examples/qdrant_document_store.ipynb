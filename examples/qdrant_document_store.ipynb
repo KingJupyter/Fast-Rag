{
 "cells": [
  {
   "cell_type": "code",
   "execution_count": null,
   "metadata": {
    "tags": []
   },
   "outputs": [],
   "source": [
    "from haystack_integrations.document_stores.qdrant import QdrantDocumentStore\n",
    "from haystack import Document\n",
    "import numpy as np"
   ]
  },
  {
   "cell_type": "markdown",
   "metadata": {},
   "source": [
    "# Qdrant Vector Store\n",
    "\n",
    "This is an example of using the [Qdrant](https://qdrant.tech/) vector store with fastRAG. This is done using the dependency `qdrant_haystack` and `qdrant_client` python connector. We assume you have a running server, e.g. by calling `docker run -p 6333:6333 qdrant/qdrant` locally. In this demo, we use local in-memory storage, without running Qdrant server.\n",
    "\n",
    "Two important settings are the dimension of the vectors and HNSW parameters. Qdrant uses HNSW index for faster search, with a tradeoff between accuracy and latency. In general, higher numbers mean better accuracy, lower latency and larger RAM usage. \n",
    "\n",
    "The parameters are specified when connecting the server and creating a new index; these cannot be changed after the index was created. "
   ]
  },
  {
   "cell_type": "code",
   "execution_count": 2,
   "metadata": {
    "tags": []
   },
   "outputs": [],
   "source": [
    "dim = 100\n",
    "index_name = \"test_hnsw\""
   ]
  },
  {
   "cell_type": "markdown",
   "metadata": {},
   "source": [
    "## Creating an Index\n",
    "\n",
    "Need to specify the location of the Qdrant service, vector dimension, index name, similarity metric and optionally the HNSW configuration. "
   ]
  },
  {
   "cell_type": "code",
   "execution_count": 3,
   "metadata": {
    "tags": []
   },
   "outputs": [],
   "source": [
    "q = QdrantDocumentStore(\":memory:\",\n",
    "                        embedding_dim=dim,\n",
    "                        timeout=60,\n",
    "                        index=index_name,\n",
    "                        embedding_field=\"embedding\",\n",
    "                        hnsw_config={\"m\": 128, \"ef_construct\": 100},\n",
    "                        similarity='dot_product',\n",
    "                        recreate_index=True)"
   ]
  },
  {
   "cell_type": "markdown",
   "metadata": {},
   "source": [
    "## Insertion and Searching of Documents\n",
    "\n",
    "We'll create a few documents; they must have an `id`, `content` and `embedding` keys but could contain more data such as text titles. "
   ]
  },
  {
   "cell_type": "code",
   "execution_count": 4,
   "metadata": {
    "tags": []
   },
   "outputs": [],
   "source": [
    "docs = [{\"id\": 1, \"content\": \"I like to go to the beach\", \"embedding\": np.random.normal(size=dim)},\n",
    "        {\"id\": 2, \"content\": \"Where is my hat?\", \"embedding\": np.random.normal(size=dim)},\n",
    "        {\"id\": 3, \"content\": \"GPT4 is very nice\", \"embedding\": np.random.normal(size=dim)},]\n",
    "docs = [Document(content=d[\"content\"], id=str(d[\"id\"]), embedding=d[\"embedding\"]) for d in docs]"
   ]
  },
  {
   "cell_type": "markdown",
   "metadata": {},
   "source": [
    "Writing the documents to index with batching; deduplication of documents is on by default. "
   ]
  },
  {
   "cell_type": "code",
   "execution_count": 5,
   "metadata": {
    "tags": []
   },
   "outputs": [
    {
     "name": "stderr",
     "output_type": "stream",
     "text": [
      "100it [00:00, 58694.43it/s]                                                                                                          \n"
     ]
    },
    {
     "data": {
      "text/plain": [
       "3"
      ]
     },
     "execution_count": 5,
     "metadata": {},
     "output_type": "execute_result"
    }
   ],
   "source": [
    "q.write_documents(docs)"
   ]
  },
  {
   "cell_type": "code",
   "execution_count": 6,
   "metadata": {
    "tags": []
   },
   "outputs": [
    {
     "data": {
      "text/plain": [
       "3"
      ]
     },
     "execution_count": 6,
     "metadata": {},
     "output_type": "execute_result"
    }
   ],
   "source": [
    "q.count_documents()"
   ]
  },
  {
   "cell_type": "markdown",
   "metadata": {},
   "source": [
    "## Query by embedding\n",
    "Need to provide a vector and `top_k` value. In general can also query by text search which we won't show here. "
   ]
  },
  {
   "cell_type": "code",
   "execution_count": 7,
   "metadata": {
    "tags": []
   },
   "outputs": [
    {
     "name": "stdout",
     "output_type": "stream",
     "text": [
      "Where is my hat?\n"
     ]
    }
   ],
   "source": [
    "print(q.query_by_embedding(np.ones(dim), top_k=1)[0].content)"
   ]
  },
  {
   "cell_type": "code",
   "execution_count": null,
   "metadata": {},
   "outputs": [],
   "source": []
  }
 ],
 "metadata": {
  "kernelspec": {
   "display_name": "fastrag",
   "language": "python",
   "name": "fastrag"
  },
  "language_info": {
   "codemirror_mode": {
    "name": "ipython",
    "version": 3
   },
   "file_extension": ".py",
   "mimetype": "text/x-python",
   "name": "python",
   "nbconvert_exporter": "python",
   "pygments_lexer": "ipython3",
   "version": "3.11.6"
  }
 },
 "nbformat": 4,
 "nbformat_minor": 4
}
